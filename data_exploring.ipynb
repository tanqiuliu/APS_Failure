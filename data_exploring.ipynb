{
 "cells": [
  {
   "cell_type": "code",
   "execution_count": 1,
   "metadata": {
    "collapsed": false
   },
   "outputs": [],
   "source": [
    "import numpy as np\n",
    "import pandas as pd\n",
    "import matplotlib.pyplot as plt\n",
    "from utils import *\n",
    "from preprocessing import *\n",
    "from models import *"
   ]
  },
  {
   "cell_type": "code",
   "execution_count": 2,
   "metadata": {
    "collapsed": false
   },
   "outputs": [],
   "source": [
    "(train_X, train_y, test_X, test_y) = load_data()"
   ]
  },
  {
   "cell_type": "code",
   "execution_count": 3,
   "metadata": {
    "collapsed": false
   },
   "outputs": [
    {
     "name": "stdout",
     "output_type": "stream",
     "text": [
      "ag: 10\n",
      "az: 10\n",
      "ba: 10\n",
      "cn: 10\n",
      "ay: 10\n",
      "ee: 10\n",
      "cs: 10\n"
     ]
    }
   ],
   "source": [
    "# find hist features\n",
    "feats = dict()\n",
    "for feat in train_X.columns:\n",
    "    fid = feat.split('_')[0]\n",
    "    if(fid not in feats.keys()):\n",
    "        feats[fid] = 1\n",
    "    else:\n",
    "        feats[fid] += 1\n",
    "for fid in feats:\n",
    "    if(feats[fid] > 1): \n",
    "        print(\"%s: %s\" %(fid,feats[fid]))"
   ]
  },
  {
   "cell_type": "code",
   "execution_count": 4,
   "metadata": {
    "collapsed": false
   },
   "outputs": [
    {
     "data": {
      "text/html": [
       "<div>\n",
       "<style scoped>\n",
       "    .dataframe tbody tr th:only-of-type {\n",
       "        vertical-align: middle;\n",
       "    }\n",
       "\n",
       "    .dataframe tbody tr th {\n",
       "        vertical-align: top;\n",
       "    }\n",
       "\n",
       "    .dataframe thead th {\n",
       "        text-align: right;\n",
       "    }\n",
       "</style>\n",
       "<table border=\"1\" class=\"dataframe\">\n",
       "  <thead>\n",
       "    <tr style=\"text-align: right;\">\n",
       "      <th></th>\n",
       "      <th>aa_000</th>\n",
       "      <th>ab_000</th>\n",
       "      <th>ac_000</th>\n",
       "      <th>ad_000</th>\n",
       "      <th>ae_000</th>\n",
       "      <th>af_000</th>\n",
       "      <th>ag_000</th>\n",
       "      <th>ag_001</th>\n",
       "      <th>ag_002</th>\n",
       "      <th>ag_003</th>\n",
       "      <th>...</th>\n",
       "      <th>ee_002</th>\n",
       "      <th>ee_003</th>\n",
       "      <th>ee_004</th>\n",
       "      <th>ee_005</th>\n",
       "      <th>ee_006</th>\n",
       "      <th>ee_007</th>\n",
       "      <th>ee_008</th>\n",
       "      <th>ee_009</th>\n",
       "      <th>ef_000</th>\n",
       "      <th>eg_000</th>\n",
       "    </tr>\n",
       "  </thead>\n",
       "  <tbody>\n",
       "    <tr>\n",
       "      <th>count</th>\n",
       "      <td>6.000000e+04</td>\n",
       "      <td>13671.000000</td>\n",
       "      <td>5.666500e+04</td>\n",
       "      <td>4.513900e+04</td>\n",
       "      <td>57500.000000</td>\n",
       "      <td>57500.000000</td>\n",
       "      <td>5.932900e+04</td>\n",
       "      <td>5.932900e+04</td>\n",
       "      <td>5.932900e+04</td>\n",
       "      <td>5.932900e+04</td>\n",
       "      <td>...</td>\n",
       "      <td>5.932900e+04</td>\n",
       "      <td>5.932900e+04</td>\n",
       "      <td>5.932900e+04</td>\n",
       "      <td>5.932900e+04</td>\n",
       "      <td>5.932900e+04</td>\n",
       "      <td>5.932900e+04</td>\n",
       "      <td>5.932900e+04</td>\n",
       "      <td>5.932900e+04</td>\n",
       "      <td>57276.000000</td>\n",
       "      <td>57277.000000</td>\n",
       "    </tr>\n",
       "    <tr>\n",
       "      <th>mean</th>\n",
       "      <td>5.933650e+04</td>\n",
       "      <td>0.713189</td>\n",
       "      <td>3.560143e+08</td>\n",
       "      <td>1.906206e+05</td>\n",
       "      <td>6.819130</td>\n",
       "      <td>11.006817</td>\n",
       "      <td>2.216364e+02</td>\n",
       "      <td>9.757223e+02</td>\n",
       "      <td>8.606015e+03</td>\n",
       "      <td>8.859128e+04</td>\n",
       "      <td>...</td>\n",
       "      <td>4.454897e+05</td>\n",
       "      <td>2.111264e+05</td>\n",
       "      <td>4.457343e+05</td>\n",
       "      <td>3.939462e+05</td>\n",
       "      <td>3.330582e+05</td>\n",
       "      <td>3.462714e+05</td>\n",
       "      <td>1.387300e+05</td>\n",
       "      <td>8.388915e+03</td>\n",
       "      <td>0.090579</td>\n",
       "      <td>0.212756</td>\n",
       "    </tr>\n",
       "    <tr>\n",
       "      <th>std</th>\n",
       "      <td>1.454301e+05</td>\n",
       "      <td>3.478962</td>\n",
       "      <td>7.948749e+08</td>\n",
       "      <td>4.040441e+07</td>\n",
       "      <td>161.543373</td>\n",
       "      <td>209.792592</td>\n",
       "      <td>2.047846e+04</td>\n",
       "      <td>3.420053e+04</td>\n",
       "      <td>1.503220e+05</td>\n",
       "      <td>7.617312e+05</td>\n",
       "      <td>...</td>\n",
       "      <td>1.155540e+06</td>\n",
       "      <td>5.433188e+05</td>\n",
       "      <td>1.168314e+06</td>\n",
       "      <td>1.121044e+06</td>\n",
       "      <td>1.069160e+06</td>\n",
       "      <td>1.728056e+06</td>\n",
       "      <td>4.495100e+05</td>\n",
       "      <td>4.747043e+04</td>\n",
       "      <td>4.368855</td>\n",
       "      <td>8.830641</td>\n",
       "    </tr>\n",
       "    <tr>\n",
       "      <th>min</th>\n",
       "      <td>0.000000e+00</td>\n",
       "      <td>0.000000</td>\n",
       "      <td>0.000000e+00</td>\n",
       "      <td>0.000000e+00</td>\n",
       "      <td>0.000000</td>\n",
       "      <td>0.000000</td>\n",
       "      <td>0.000000e+00</td>\n",
       "      <td>0.000000e+00</td>\n",
       "      <td>0.000000e+00</td>\n",
       "      <td>0.000000e+00</td>\n",
       "      <td>...</td>\n",
       "      <td>0.000000e+00</td>\n",
       "      <td>0.000000e+00</td>\n",
       "      <td>0.000000e+00</td>\n",
       "      <td>0.000000e+00</td>\n",
       "      <td>0.000000e+00</td>\n",
       "      <td>0.000000e+00</td>\n",
       "      <td>0.000000e+00</td>\n",
       "      <td>0.000000e+00</td>\n",
       "      <td>0.000000</td>\n",
       "      <td>0.000000</td>\n",
       "    </tr>\n",
       "    <tr>\n",
       "      <th>25%</th>\n",
       "      <td>8.340000e+02</td>\n",
       "      <td>0.000000</td>\n",
       "      <td>1.600000e+01</td>\n",
       "      <td>2.400000e+01</td>\n",
       "      <td>0.000000</td>\n",
       "      <td>0.000000</td>\n",
       "      <td>0.000000e+00</td>\n",
       "      <td>0.000000e+00</td>\n",
       "      <td>0.000000e+00</td>\n",
       "      <td>0.000000e+00</td>\n",
       "      <td>...</td>\n",
       "      <td>2.936000e+03</td>\n",
       "      <td>1.166000e+03</td>\n",
       "      <td>2.700000e+03</td>\n",
       "      <td>3.584000e+03</td>\n",
       "      <td>5.120000e+02</td>\n",
       "      <td>1.100000e+02</td>\n",
       "      <td>0.000000e+00</td>\n",
       "      <td>0.000000e+00</td>\n",
       "      <td>0.000000</td>\n",
       "      <td>0.000000</td>\n",
       "    </tr>\n",
       "    <tr>\n",
       "      <th>50%</th>\n",
       "      <td>3.077600e+04</td>\n",
       "      <td>0.000000</td>\n",
       "      <td>1.520000e+02</td>\n",
       "      <td>1.260000e+02</td>\n",
       "      <td>0.000000</td>\n",
       "      <td>0.000000</td>\n",
       "      <td>0.000000e+00</td>\n",
       "      <td>0.000000e+00</td>\n",
       "      <td>0.000000e+00</td>\n",
       "      <td>0.000000e+00</td>\n",
       "      <td>...</td>\n",
       "      <td>2.337960e+05</td>\n",
       "      <td>1.120860e+05</td>\n",
       "      <td>2.215180e+05</td>\n",
       "      <td>1.899880e+05</td>\n",
       "      <td>9.243200e+04</td>\n",
       "      <td>4.109800e+04</td>\n",
       "      <td>3.812000e+03</td>\n",
       "      <td>0.000000e+00</td>\n",
       "      <td>0.000000</td>\n",
       "      <td>0.000000</td>\n",
       "    </tr>\n",
       "    <tr>\n",
       "      <th>75%</th>\n",
       "      <td>4.866800e+04</td>\n",
       "      <td>0.000000</td>\n",
       "      <td>9.640000e+02</td>\n",
       "      <td>4.300000e+02</td>\n",
       "      <td>0.000000</td>\n",
       "      <td>0.000000</td>\n",
       "      <td>0.000000e+00</td>\n",
       "      <td>0.000000e+00</td>\n",
       "      <td>0.000000e+00</td>\n",
       "      <td>0.000000e+00</td>\n",
       "      <td>...</td>\n",
       "      <td>4.383960e+05</td>\n",
       "      <td>2.182320e+05</td>\n",
       "      <td>4.666140e+05</td>\n",
       "      <td>4.032220e+05</td>\n",
       "      <td>2.750940e+05</td>\n",
       "      <td>1.678140e+05</td>\n",
       "      <td>1.397240e+05</td>\n",
       "      <td>2.028000e+03</td>\n",
       "      <td>0.000000</td>\n",
       "      <td>0.000000</td>\n",
       "    </tr>\n",
       "    <tr>\n",
       "      <th>max</th>\n",
       "      <td>2.746564e+06</td>\n",
       "      <td>204.000000</td>\n",
       "      <td>2.130707e+09</td>\n",
       "      <td>8.584298e+09</td>\n",
       "      <td>21050.000000</td>\n",
       "      <td>20070.000000</td>\n",
       "      <td>3.376892e+06</td>\n",
       "      <td>4.109372e+06</td>\n",
       "      <td>1.055286e+07</td>\n",
       "      <td>6.340207e+07</td>\n",
       "      <td>...</td>\n",
       "      <td>7.793393e+07</td>\n",
       "      <td>3.775839e+07</td>\n",
       "      <td>9.715238e+07</td>\n",
       "      <td>5.743524e+07</td>\n",
       "      <td>3.160781e+07</td>\n",
       "      <td>1.195801e+08</td>\n",
       "      <td>1.926740e+07</td>\n",
       "      <td>3.810078e+06</td>\n",
       "      <td>482.000000</td>\n",
       "      <td>1146.000000</td>\n",
       "    </tr>\n",
       "  </tbody>\n",
       "</table>\n",
       "<p>8 rows × 170 columns</p>\n",
       "</div>"
      ],
      "text/plain": [
       "             aa_000        ab_000        ac_000        ad_000        ae_000  \\\n",
       "count  6.000000e+04  13671.000000  5.666500e+04  4.513900e+04  57500.000000   \n",
       "mean   5.933650e+04      0.713189  3.560143e+08  1.906206e+05      6.819130   \n",
       "std    1.454301e+05      3.478962  7.948749e+08  4.040441e+07    161.543373   \n",
       "min    0.000000e+00      0.000000  0.000000e+00  0.000000e+00      0.000000   \n",
       "25%    8.340000e+02      0.000000  1.600000e+01  2.400000e+01      0.000000   \n",
       "50%    3.077600e+04      0.000000  1.520000e+02  1.260000e+02      0.000000   \n",
       "75%    4.866800e+04      0.000000  9.640000e+02  4.300000e+02      0.000000   \n",
       "max    2.746564e+06    204.000000  2.130707e+09  8.584298e+09  21050.000000   \n",
       "\n",
       "             af_000        ag_000        ag_001        ag_002        ag_003  \\\n",
       "count  57500.000000  5.932900e+04  5.932900e+04  5.932900e+04  5.932900e+04   \n",
       "mean      11.006817  2.216364e+02  9.757223e+02  8.606015e+03  8.859128e+04   \n",
       "std      209.792592  2.047846e+04  3.420053e+04  1.503220e+05  7.617312e+05   \n",
       "min        0.000000  0.000000e+00  0.000000e+00  0.000000e+00  0.000000e+00   \n",
       "25%        0.000000  0.000000e+00  0.000000e+00  0.000000e+00  0.000000e+00   \n",
       "50%        0.000000  0.000000e+00  0.000000e+00  0.000000e+00  0.000000e+00   \n",
       "75%        0.000000  0.000000e+00  0.000000e+00  0.000000e+00  0.000000e+00   \n",
       "max    20070.000000  3.376892e+06  4.109372e+06  1.055286e+07  6.340207e+07   \n",
       "\n",
       "           ...             ee_002        ee_003        ee_004        ee_005  \\\n",
       "count      ...       5.932900e+04  5.932900e+04  5.932900e+04  5.932900e+04   \n",
       "mean       ...       4.454897e+05  2.111264e+05  4.457343e+05  3.939462e+05   \n",
       "std        ...       1.155540e+06  5.433188e+05  1.168314e+06  1.121044e+06   \n",
       "min        ...       0.000000e+00  0.000000e+00  0.000000e+00  0.000000e+00   \n",
       "25%        ...       2.936000e+03  1.166000e+03  2.700000e+03  3.584000e+03   \n",
       "50%        ...       2.337960e+05  1.120860e+05  2.215180e+05  1.899880e+05   \n",
       "75%        ...       4.383960e+05  2.182320e+05  4.666140e+05  4.032220e+05   \n",
       "max        ...       7.793393e+07  3.775839e+07  9.715238e+07  5.743524e+07   \n",
       "\n",
       "             ee_006        ee_007        ee_008        ee_009        ef_000  \\\n",
       "count  5.932900e+04  5.932900e+04  5.932900e+04  5.932900e+04  57276.000000   \n",
       "mean   3.330582e+05  3.462714e+05  1.387300e+05  8.388915e+03      0.090579   \n",
       "std    1.069160e+06  1.728056e+06  4.495100e+05  4.747043e+04      4.368855   \n",
       "min    0.000000e+00  0.000000e+00  0.000000e+00  0.000000e+00      0.000000   \n",
       "25%    5.120000e+02  1.100000e+02  0.000000e+00  0.000000e+00      0.000000   \n",
       "50%    9.243200e+04  4.109800e+04  3.812000e+03  0.000000e+00      0.000000   \n",
       "75%    2.750940e+05  1.678140e+05  1.397240e+05  2.028000e+03      0.000000   \n",
       "max    3.160781e+07  1.195801e+08  1.926740e+07  3.810078e+06    482.000000   \n",
       "\n",
       "             eg_000  \n",
       "count  57277.000000  \n",
       "mean       0.212756  \n",
       "std        8.830641  \n",
       "min        0.000000  \n",
       "25%        0.000000  \n",
       "50%        0.000000  \n",
       "75%        0.000000  \n",
       "max     1146.000000  \n",
       "\n",
       "[8 rows x 170 columns]"
      ]
     },
     "execution_count": 4,
     "metadata": {},
     "output_type": "execute_result"
    }
   ],
   "source": [
    "describe = train_X.describe()\n",
    "describe"
   ]
  },
  {
   "cell_type": "code",
   "execution_count": 5,
   "metadata": {
    "collapsed": false
   },
   "outputs": [
    {
     "data": {
      "image/png": "[encoded data removed]",
      "text/plain": [
       "<matplotlib.figure.Figure at 0x104d59710>"
      ]
     },
     "metadata": {},
     "output_type": "display_data"
    }
   ],
   "source": [
    "# an preview of missing values in the dataset\n",
    "plt.imshow(train_X.iloc[0:400,:].isnull().values.T)\n",
    "plt.show()"
   ]
  },
  {
   "cell_type": "code",
   "execution_count": 6,
   "metadata": {
    "collapsed": false
   },
   "outputs": [
    {
     "data": {
      "image/png": "[encoded data removed]",
      "text/plain": [
       "<matplotlib.figure.Figure at 0x120822a58>"
      ]
     },
     "metadata": {},
     "output_type": "display_data"
    }
   ],
   "source": [
    "# distribution of missing values along features\n",
    "plt.hist(describe.iloc[0],20)\n",
    "plt.show()"
   ]
  },
  {
   "cell_type": "code",
   "execution_count": 7,
   "metadata": {
    "collapsed": false
   },
   "outputs": [
    {
     "data": {
      "image/png": "[encoded data removed]",
      "text/plain": [
       "<matplotlib.figure.Figure at 0x11ae34978>"
      ]
     },
     "metadata": {},
     "output_type": "display_data"
    }
   ],
   "source": [
    "# distribution of the proportion of missing values in records\n",
    "num_null = list(train_X.isnull().sum(axis=1)/train_X.shape[1])\n",
    "plt.hist(num_null)\n",
    "plt.show()"
   ]
  },
  {
   "cell_type": "code",
   "execution_count": 5,
   "metadata": {
    "collapsed": false
   },
   "outputs": [
    {
     "name": "stdout",
     "output_type": "stream",
     "text": [
      "Features dropped: ['bq_000', 'ec_00', 'cr_000', 'cu_000', 'cy_000', 'bo_000', 'bk_000', 'bn_000', 'bm_000', 'cz_000', 'bp_000', 'cf_000', 'cl_000', 'cv_000', 'ad_000', 'co_000', 'bl_000', 'dc_000', 'ct_000', 'br_000', 'ch_000', 'db_000', 'da_000', 'cx_000', 'cm_000', 'cg_000', 'ed_000', 'ab_000'].\n"
     ]
    }
   ],
   "source": [
    "# preprocessing\n",
    "nan_col = get_nan_col(train_X)\n",
    "zero_col = []\n",
    "# zero_col = get_zero_col(train_X)\n",
    "col_remove = list(set(nan_col+zero_col))\n",
    "X_tr, X_te = remove_columns(train_X, test_X, col_remove)\n",
    "X_tr, X_te = imputation(X_tr, X_te,method='median')\n",
    "# normalize distribution\n",
    "quantile_transformer = sklearn.preprocessing.QuantileTransformer(random_state=0)\n",
    "X_tr = quantile_transformer.fit_transform(X_tr)\n",
    "X_te = quantile_transformer.transform(X_te)\n",
    "\n",
    "y_tr, y_te = train_y.values, test_y.values\n"
   ]
  },
  {
   "cell_type": "code",
   "execution_count": 12,
   "metadata": {
    "collapsed": false
   },
   "outputs": [],
   "source": [
    "# X_tr.describe().T"
   ]
  },
  {
   "cell_type": "code",
   "execution_count": 14,
   "metadata": {
    "collapsed": false
   },
   "outputs": [
    {
     "name": "stdout",
     "output_type": "stream",
     "text": [
      "Features dropped: ['ab_000', 'ed_000', 'cx_000', 'cg_000', 'ef_000', 'ay_009', 'dj_000', 'ct_000', 'af_000', 'eg_000', 'dz_000', 'dl_000', 'bl_000', 'cr_000', 'df_000', 'bq_000', 'ad_000', 'ay_000', 'cf_000', 'ay_001', 'ak_000', 'cm_000', 'ay_004', 'bm_000', 'au_000', 'db_000', 'ag_000', 'br_000', 'cl_000', 'ar_000', 'ag_001', 'cn_000', 'ay_002', 'ae_000', 'dc_000', 'az_009', 'ec_00', 'as_000', 'ch_000', 'bk_000', 'bo_000', 'ag_002', 'bn_000', 'dm_000', 'co_000', 'cz_000', 'bp_000', 'cv_000', 'cu_000', 'ay_003', 'dg_000', 'dk_000', 'da_000', 'az_008', 'cs_009', 'ea_000', 'cy_000'].\n"
     ]
    },
    {
     "data": {
      "image/png": "[encoded data removed]",
      "text/plain": [
       "<matplotlib.figure.Figure at 0x134141f60>"
      ]
     },
     "metadata": {},
     "output_type": "display_data"
    }
   ],
   "source": [
    "# distribution of null values after removing high-null columns (before imputation)\n",
    "plt.imshow(remove_columns(train_X, test_X, col_remove)[0].iloc[0:400,:].isnull().values.T)\n",
    "plt.show()"
   ]
  },
  {
   "cell_type": "code",
   "execution_count": 15,
   "metadata": {
    "collapsed": false
   },
   "outputs": [
    {
     "data": {
      "image/png": "[encoded data removed]",
      "text/plain": [
       "<matplotlib.figure.Figure at 0x13514a080>"
      ]
     },
     "metadata": {},
     "output_type": "display_data"
    }
   ],
   "source": [
    "# distribution of 0-value after \n",
    "plt.imshow(X_tr.iloc[0:400,:].values.T == 0)\n",
    "plt.show()"
   ]
  },
  {
   "cell_type": "code",
   "execution_count": 88,
   "metadata": {
    "collapsed": true
   },
   "outputs": [],
   "source": [
    "def total_cost(y_true, y_pred):\n",
    "    FP = ((y_pred >  0) & (y_true == 0)).sum()\n",
    "    FN = ((y_pred <= 0) & (y_true == 1)).sum()\n",
    "    return 10 * FP + 500 * FN"
   ]
  },
  {
   "cell_type": "code",
   "execution_count": 86,
   "metadata": {
    "collapsed": true
   },
   "outputs": [],
   "source": [
    "from sklearn.model_selection import cross_val_score\n",
    "from sklearn.metrics import make_scorer\n",
    "\n",
    "def evaluate(X, y, mdl):\n",
    "    tcost = make_scorer(total_cost,greater_is_better=True)\n",
    "    n_fold = 5\n",
    "    return np.mean(cross_val_score(mdl, X, y, scoring=tcost, cv=n_fold,n_jobs=4))"
   ]
  },
  {
   "cell_type": "markdown",
   "metadata": {},
   "source": [
    "Tune hyperparameter for CART"
   ]
  },
  {
   "cell_type": "code",
   "execution_count": 90,
   "metadata": {
    "collapsed": false
   },
   "outputs": [
    {
     "data": {
      "text/plain": [
       "[29734.0, 17856.0, 12886.0, 13196.0, 21528.0]"
      ]
     },
     "execution_count": 90,
     "metadata": {},
     "output_type": "execute_result"
    }
   ],
   "source": [
    "# Search for optimal hyperparam for decision tree, model evaluated using CV\n",
    "scores = []\n",
    "for min_leaf in [1,10,50,100,500]:\n",
    "    scores.append(evaluate(X_tr.values, y_tr.values, DecisionTreeRegressor(min_samples_leaf = min_leaf)))\n",
    "scores"
   ]
  },
  {
   "cell_type": "code",
   "execution_count": 91,
   "metadata": {
    "collapsed": false
   },
   "outputs": [
    {
     "data": {
      "text/plain": [
       "[13290.0, 12886.0, 12580.0, 12398.0, 12756.0, 13122.0]"
      ]
     },
     "execution_count": 91,
     "metadata": {},
     "output_type": "execute_result"
    }
   ],
   "source": [
    "scores = []\n",
    "for min_leaf in [40,50,60,70,80,90]:\n",
    "    scores.append(evaluate(X_tr.values, y_tr.values, DecisionTreeRegressor(min_samples_leaf = min_leaf)))\n",
    "scores"
   ]
  },
  {
   "cell_type": "code",
   "execution_count": 95,
   "metadata": {
    "collapsed": false
   },
   "outputs": [
    {
     "data": {
      "text/plain": [
       "[118266.0, 33034.0, 12398.0, 12398.0, 12398.0]"
      ]
     },
     "execution_count": 95,
     "metadata": {},
     "output_type": "execute_result"
    }
   ],
   "source": [
    "scores = []\n",
    "for depth in [10,20,30,50,None]:\n",
    "    scores.append(evaluate(X_tr.values, y_tr.values, DecisionTreeRegressor(max_depth = depth, min_samples_leaf=70)))\n",
    "scores"
   ]
  },
  {
   "cell_type": "code",
   "execution_count": 15,
   "metadata": {
    "collapsed": false
   },
   "outputs": [
    {
     "name": "stdout",
     "output_type": "stream",
     "text": [
      "Total_cost: 18590\n",
      "Precision: 0.271276595745\n",
      "Recall: 0.952\n"
     ]
    }
   ],
   "source": [
    "# evaluate on test set\n",
    "cart = DecisionTreeRegressor(min_samples_leaf=70,max_depth=30)\n",
    "cart = cart.fit(X_tr, y_tr)\n",
    "y_pred = cart.predict(X_te) \n",
    "print(\"Total_cost: %s\" %total_cost(y_te, y_pred))\n",
    "print(\"Precision: %s\" %precision_score(y_te, y_pred>0))\n",
    "print(\"Recall: %s\" %recall_score(y_te, y_pred>0))"
   ]
  },
  {
   "cell_type": "markdown",
   "metadata": {},
   "source": [
    "Tune hyperparameter for RF"
   ]
  },
  {
   "cell_type": "code",
   "execution_count": 102,
   "metadata": {
    "collapsed": false
   },
   "outputs": [
    {
     "data": {
      "text/plain": [
       "[13066.0, 13614.0, 11628.0, 10894.0]"
      ]
     },
     "execution_count": 102,
     "metadata": {},
     "output_type": "execute_result"
    }
   ],
   "source": [
    "scores = []\n",
    "for mf in ['sqrt','log2',0.3333,'auto']:\n",
    "    scores.append(evaluate(X_tr.values, y_tr.values, RandomForestRegressor(n_estimators=100, max_features=mf, n_jobs=4)))\n",
    "scores"
   ]
  },
  {
   "cell_type": "code",
   "execution_count": 104,
   "metadata": {
    "collapsed": false
   },
   "outputs": [
    {
     "name": "stdout",
     "output_type": "stream",
     "text": [
      "40\n",
      "50\n",
      "60\n",
      "80\n",
      "100\n"
     ]
    },
    {
     "data": {
      "text/plain": [
       "[9502.0, 9726.0, 10098.0, 10642.0, 10894.0]"
      ]
     },
     "execution_count": 104,
     "metadata": {},
     "output_type": "execute_result"
    }
   ],
   "source": [
    "scores = []\n",
    "for n_esti in [40,50,60,80,100]:\n",
    "    print(\"%s\" %n_esti)\n",
    "    scores.append(evaluate(X_tr.values, y_tr.values, \n",
    "                           RandomForestRegressor(n_estimators=n_esti, max_features='auto', n_jobs=4)))\n",
    "scores"
   ]
  },
  {
   "cell_type": "code",
   "execution_count": 107,
   "metadata": {
    "collapsed": false
   },
   "outputs": [
    {
     "name": "stdout",
     "output_type": "stream",
     "text": [
      "20\n",
      "30\n"
     ]
    },
    {
     "data": {
      "text/plain": [
       "[9228.0, 9216.0]"
      ]
     },
     "execution_count": 107,
     "metadata": {},
     "output_type": "execute_result"
    }
   ],
   "source": [
    "scores = []\n",
    "for n_esti in [20,30]:\n",
    "    print(\"%s\" %n_esti)\n",
    "    scores.append(evaluate(X_tr.values, y_tr.values, \n",
    "                           RandomForestRegressor(n_estimators=n_esti, max_features='auto', n_jobs=4)))\n",
    "scores"
   ]
  },
  {
   "cell_type": "code",
   "execution_count": 113,
   "metadata": {
    "collapsed": false
   },
   "outputs": [
    {
     "name": "stdout",
     "output_type": "stream",
     "text": [
      "30\n",
      "40\n",
      "50\n",
      "60\n"
     ]
    },
    {
     "data": {
      "text/plain": [
       "[21338.0, 23956.0, 25992.0, 27944.0]"
      ]
     },
     "execution_count": 113,
     "metadata": {},
     "output_type": "execute_result"
    }
   ],
   "source": [
    "scores = []\n",
    "for min_leaf in [30,40,50,60]:\n",
    "    print(\"%s\" %min_leaf)\n",
    "    scores.append(evaluate(X_tr.values, y_tr.values, \n",
    "                          RandomForestRegressor(n_estimators=25, max_features='auto', min_samples_leaf=min_leaf, n_jobs=4)))\n",
    "scores"
   ]
  },
  {
   "cell_type": "code",
   "execution_count": 114,
   "metadata": {
    "collapsed": false
   },
   "outputs": [
    {
     "name": "stdout",
     "output_type": "stream",
     "text": [
      "10\n",
      "20\n"
     ]
    },
    {
     "data": {
      "text/plain": [
       "[14292.0, 18132.0]"
      ]
     },
     "execution_count": 114,
     "metadata": {},
     "output_type": "execute_result"
    }
   ],
   "source": [
    "scores = []\n",
    "for min_leaf in [10,20]:\n",
    "    print(\"%s\" %min_leaf)\n",
    "    scores.append(evaluate(X_tr.values, y_tr.values, \n",
    "                          RandomForestRegressor(n_estimators=25, max_features='auto', min_samples_leaf=min_leaf, n_jobs=4)))\n",
    "scores\n",
    "# The optimal min_leaf is the default: 1"
   ]
  },
  {
   "cell_type": "code",
   "execution_count": 70,
   "metadata": {
    "collapsed": false
   },
   "outputs": [
    {
     "name": "stdout",
     "output_type": "stream",
     "text": [
      "12330\n",
      "Precision: 0.383068783069\n",
      "Recall: 0.965333333333\n"
     ]
    }
   ],
   "source": [
    "# evaluate Random Forest on test set\n",
    "\n",
    "RF = RandomForestRegressor(n_estimators=25, max_features='auto',min_samples_leaf=1, n_jobs=4)\n",
    "RF = RF.fit(X_tr, y_tr)\n",
    "y_pred = RF.predict(X_te)\n",
    "#metrics(y_te.values, y_pred)\n",
    "print(total_cost(y_te.values, y_pred))\n",
    "print(\"Precision: %s\" %precision_score(y_te, y_pred>0))\n",
    "print(\"Recall: %s\" %recall_score(y_te, y_pred>0))"
   ]
  },
  {
   "cell_type": "code",
   "execution_count": 92,
   "metadata": {
    "collapsed": false
   },
   "outputs": [
    {
     "name": "stdout",
     "output_type": "stream",
     "text": [
      "12330\n",
      "Precision: 0.383068783069\n",
      "Recall: 0.965333333333\n"
     ]
    }
   ],
   "source": [
    "def total_cost(y_true, y_pred):\n",
    "    FP = ((y_pred == 1) & (y_true == 0)).sum()\n",
    "    FN = ((y_pred == 0) & (y_true == 1)).sum()\n",
    "    return 10 * FP + 500 * FN\n",
    "\n",
    "t = 0.01\n",
    "print(total_cost(y_te.values, y_pred > t))\n",
    "print(\"Precision: %s\" %precision_score(y_te, y_pred>t))\n",
    "print(\"Recall: %s\" %recall_score(y_te, y_pred>t))"
   ]
  },
  {
   "cell_type": "code",
   "execution_count": null,
   "metadata": {
    "collapsed": false
   },
   "outputs": [],
   "source": []
  },
  {
   "cell_type": "code",
   "execution_count": 57,
   "metadata": {
    "collapsed": false
   },
   "outputs": [],
   "source": [
    "# Other models"
   ]
  },
  {
   "cell_type": "code",
   "execution_count": 69,
   "metadata": {
    "collapsed": false
   },
   "outputs": [
    {
     "name": "stdout",
     "output_type": "stream",
     "text": [
      "156250\n",
      "Precision: 0.341929321872\n",
      "Recall: 0.954666666667\n"
     ]
    }
   ],
   "source": [
    "from sklearn.linear_model import LogisticRegression\n",
    "LR = LogisticRegression(penalty='l1', C=3,class_weight='balanced')\n",
    "LR = LR.fit(X_tr, y_tr)\n",
    "y_pred = LR.predict_proba(X_te)[:,1]\n",
    "t = 0.5\n",
    "print(total_cost(y_te.values, y_pred))\n",
    "print(\"Precision: %s\" %precision_score(y_te, y_pred>t))\n",
    "print(\"Recall: %s\" %recall_score(y_te, y_pred>t))"
   ]
  },
  {
   "cell_type": "code",
   "execution_count": 61,
   "metadata": {
    "collapsed": false
   },
   "outputs": [
    {
     "name": "stdout",
     "output_type": "stream",
     "text": [
      "38550\n",
      "Precision: 0.118443316413\n",
      "Recall: 0.933333333333\n"
     ]
    }
   ],
   "source": [
    "from sklearn.naive_bayes import GaussianNB\n",
    "prior = np.array([(y_tr==0).sum(), y_tr.sum()])/y_tr.shape[0]\n",
    "gnb = GaussianNB(priors = prior )\n",
    "y_pred = gnb.fit(X_tr, y_tr).predict(X_te)\n",
    "print(total_cost(y_te.values, y_pred))\n",
    "print(\"Precision: %s\" %precision_score(y_te, y_pred>0))\n",
    "print(\"Recall: %s\" %recall_score(y_te, y_pred>0))"
   ]
  },
  {
   "cell_type": "code",
   "execution_count": null,
   "metadata": {
    "collapsed": false
   },
   "outputs": [],
   "source": []
  },
  {
   "cell_type": "code",
   "execution_count": null,
   "metadata": {
    "collapsed": false
   },
   "outputs": [],
   "source": []
  },
  {
   "cell_type": "code",
   "execution_count": null,
   "metadata": {
    "collapsed": true
   },
   "outputs": [],
   "source": []
  }
 ],
 "metadata": {
  "anaconda-cloud": {},
  "kernelspec": {
   "display_name": "Python 3",
   "language": "python",
   "name": "python3"
  },
  "language_info": {
   "codemirror_mode": {
    "name": "ipython",
    "version": 3
   },
   "file_extension": ".py",
   "mimetype": "text/x-python",
   "name": "python",
   "nbconvert_exporter": "python",
   "pygments_lexer": "ipython3",
   "version": "3.5.2"
  }
 },
 "nbformat": 4,
 "nbformat_minor": 1
}
